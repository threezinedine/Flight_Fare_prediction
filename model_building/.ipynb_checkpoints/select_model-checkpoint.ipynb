{
 "cells": [
  {
   "cell_type": "code",
   "execution_count": 2,
   "id": "active-button",
   "metadata": {},
   "outputs": [],
   "source": [
    "import pickle \n",
    "import numpy as np\n",
    "import pandas as pd"
   ]
  },
  {
   "cell_type": "code",
   "execution_count": 3,
   "id": "cultural-academy",
   "metadata": {},
   "outputs": [],
   "source": [
    "with open ('train_clean_data.pkl', 'rb') as file:\n",
    "    X, y = pickle.load (file)"
   ]
  },
  {
   "cell_type": "code",
   "execution_count": 4,
   "id": "latest-complement",
   "metadata": {},
   "outputs": [],
   "source": [
    "from sklearn.model_selection import RandomizedSearchCV\n",
    "from sklearn.ensemble import RandomForestRegressor"
   ]
  },
  {
   "cell_type": "code",
   "execution_count": 7,
   "id": "twenty-regulation",
   "metadata": {},
   "outputs": [
    {
     "data": {
      "text/plain": [
       "<pandas.core.indexing._iLocIndexer at 0x7ff87b04ca90>"
      ]
     },
     "execution_count": 7,
     "metadata": {},
     "output_type": "execute_result"
    }
   ],
   "source": [
    "x = np.array ([[2, 3, 4, 1, 5]])"
   ]
  },
  {
   "cell_type": "code",
   "execution_count": 67,
   "id": "synthetic-comedy",
   "metadata": {},
   "outputs": [],
   "source": [
    "dct = RandomForestRegressor()\n",
    "params_grid = dict ({\n",
    "    'n_estimators' : [i for i in range (50, 1000, 25)],\n",
    "    'max_features': ['auto', 'sqrt'],\n",
    "    'min_samples_split': [2, 5, 10, 15],\n",
    "    'min_samples_leaf': [1, 2, 5, 10],\n",
    "    'max_depth' : [i for i in range (25, 65, 5)]\n",
    "})\n",
    "grid = RandomizedSearchCV (dct, params_grid, scoring = 'neg_mean_squared_error', \n",
    "                           cv=10, n_jobs = -1, n_iter = 10)"
   ]
  },
  {
   "cell_type": "code",
   "execution_count": 68,
   "id": "abroad-phase",
   "metadata": {},
   "outputs": [
    {
     "data": {
      "text/plain": [
       "RandomizedSearchCV(cv=10, estimator=RandomForestRegressor(), n_jobs=-1,\n",
       "                   param_distributions={'max_depth': [25, 30, 35, 40, 45, 50,\n",
       "                                                      55, 60],\n",
       "                                        'max_features': ['auto', 'sqrt'],\n",
       "                                        'min_samples_leaf': [1, 2, 5, 10],\n",
       "                                        'min_samples_split': [2, 5, 10, 15],\n",
       "                                        'n_estimators': [50, 75, 100, 125, 150,\n",
       "                                                         175, 200, 225, 250,\n",
       "                                                         275, 300, 325, 350,\n",
       "                                                         375, 400, 425, 450,\n",
       "                                                         475, 500, 525, 550,\n",
       "                                                         575, 600, 625, 650,\n",
       "                                                         675, 700, 725, 750,\n",
       "                                                         775, ...]},\n",
       "                   scoring='neg_mean_squared_error')"
      ]
     },
     "execution_count": 68,
     "metadata": {},
     "output_type": "execute_result"
    }
   ],
   "source": [
    "grid.fit (X_train, y_train)"
   ]
  },
  {
   "cell_type": "code",
   "execution_count": 69,
   "id": "undefined-division",
   "metadata": {},
   "outputs": [],
   "source": [
    "model = grid.best_estimator_"
   ]
  },
  {
   "cell_type": "code",
   "execution_count": 70,
   "id": "discrete-afternoon",
   "metadata": {},
   "outputs": [
    {
     "data": {
      "text/plain": [
       "-4277449.001941978"
      ]
     },
     "execution_count": 70,
     "metadata": {},
     "output_type": "execute_result"
    }
   ],
   "source": [
    "grid.best_score_"
   ]
  },
  {
   "cell_type": "code",
   "execution_count": 71,
   "id": "welsh-france",
   "metadata": {},
   "outputs": [
    {
     "data": {
      "text/plain": [
       "{'n_estimators': 325,\n",
       " 'min_samples_split': 5,\n",
       " 'min_samples_leaf': 1,\n",
       " 'max_features': 'auto',\n",
       " 'max_depth': 45}"
      ]
     },
     "execution_count": 71,
     "metadata": {},
     "output_type": "execute_result"
    }
   ],
   "source": [
    "grid.best_params_"
   ]
  },
  {
   "cell_type": "code",
   "execution_count": 72,
   "id": "quantitative-italian",
   "metadata": {},
   "outputs": [],
   "source": [
    "from sklearn.metrics import mean_squared_error, mean_absolute_error\n",
    "import seaborn as sns"
   ]
  },
  {
   "cell_type": "code",
   "execution_count": 73,
   "id": "printable-austin",
   "metadata": {},
   "outputs": [
    {
     "data": {
      "text/plain": [
       "1140.8815690309373"
      ]
     },
     "execution_count": 73,
     "metadata": {},
     "output_type": "execute_result"
    }
   ],
   "source": [
    "y_pred = model.predict (X_test)\n",
    "mean_absolute_error (y_test, y_pred)"
   ]
  },
  {
   "cell_type": "code",
   "execution_count": 74,
   "id": "subject-render",
   "metadata": {},
   "outputs": [
    {
     "name": "stderr",
     "output_type": "stream",
     "text": [
      "/home/thaonguyenthe/.local/lib/python3.8/site-packages/seaborn/distributions.py:2557: FutureWarning: `distplot` is a deprecated function and will be removed in a future version. Please adapt your code to use either `displot` (a figure-level function with similar flexibility) or `histplot` (an axes-level function for histograms).\n",
      "  warnings.warn(msg, FutureWarning)\n"
     ]
    },
    {
     "data": {
      "text/plain": [
       "<AxesSubplot:xlabel='Price', ylabel='Density'>"
      ]
     },
     "execution_count": 74,
     "metadata": {},
     "output_type": "execute_result"
    },
    {
     "data": {
      "image/png": "[encoded data removed]",
      "text/plain": [
       "<Figure size 432x288 with 1 Axes>"
      ]
     },
     "metadata": {
      "needs_background": "light"
     },
     "output_type": "display_data"
    }
   ],
   "source": [
    "sns.distplot (y_test - y_pred)"
   ]
  },
  {
   "cell_type": "code",
   "execution_count": 75,
   "id": "pursuant-structure",
   "metadata": {},
   "outputs": [],
   "source": [
    "with open ('random_forest_model.sav', 'wb') as file:\n",
    "    pickle.dump (model, file)"
   ]
  },
  {
   "cell_type": "code",
   "execution_count": null,
   "id": "collect-field",
   "metadata": {},
   "outputs": [],
   "source": []
  }
 ],
 "metadata": {
  "kernelspec": {
   "display_name": "Python 3",
   "language": "python",
   "name": "python3"
  },
  "language_info": {
   "codemirror_mode": {
    "name": "ipython",
    "version": 3
   },
   "file_extension": ".py",
   "mimetype": "text/x-python",
   "name": "python",
   "nbconvert_exporter": "python",
   "pygments_lexer": "ipython3",
   "version": "3.8.5"
  }
 },
 "nbformat": 4,
 "nbformat_minor": 5
}
